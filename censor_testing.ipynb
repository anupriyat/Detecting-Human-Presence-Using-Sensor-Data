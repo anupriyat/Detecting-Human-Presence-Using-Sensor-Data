{
  "nbformat": 4,
  "nbformat_minor": 0,
  "metadata": {
    "kernelspec": {
      "display_name": "Python 3",
      "language": "python",
      "name": "myenv"
    },
    "language_info": {
      "codemirror_mode": {
        "name": "ipython",
        "version": 3
      },
      "file_extension": ".py",
      "mimetype": "text/x-python",
      "name": "python",
      "nbconvert_exporter": "python",
      "pygments_lexer": "ipython3",
      "version": "3.6.3"
    },
    "colab": {
      "name": "sensor_testing.ipynb",
      "version": "0.3.2",
      "provenance": []
    }
  },
  "cells": [
    {
      "cell_type": "code",
      "metadata": {
        "id": "_nQY_JePPCuS",
        "colab_type": "code",
        "colab": {}
      },
      "source": [
        "import socket\n",
        "import json\n",
        "from sklearn.externals import joblib\n",
        "from sklearn.preprocessing import MinMaxScaler\n",
        "from sklearn import metrics\n",
        "import os\n",
        "import pandas as pd\n",
        "from time import sleep\n",
        "\n",
        "import numpy as np\n",
        "import pandas as pd\n",
        "\n",
        "import matplotlib.pyplot as plt\n",
        "%matplotlib inline\n",
        "import seaborn as sns"
      ],
      "execution_count": 0,
      "outputs": []
    },
    {
      "cell_type": "code",
      "metadata": {
        "id": "cZQbBJYkPCuV",
        "colab_type": "code",
        "colab": {}
      },
      "source": [
        "cwd = os.getcwd()\n",
        "df = pd.read_csv(cwd+'/occupancy/censortest.csv', index_col=False)\n",
        "df = df.drop(['Number','date'], axis=1)"
      ],
      "execution_count": 0,
      "outputs": []
    },
    {
      "cell_type": "code",
      "metadata": {
        "id": "icNqUxhAPCuY",
        "colab_type": "code",
        "colab": {}
      },
      "source": [
        "X_test = df.loc[:, df.columns != 'Occupancy']\n",
        "y_test = df['Occupancy']"
      ],
      "execution_count": 0,
      "outputs": []
    },
    {
      "cell_type": "code",
      "metadata": {
        "id": "yDtVkgY9PCua",
        "colab_type": "code",
        "colab": {}
      },
      "source": [
        "lr = joblib.load('lr.pkl')\n",
        "dt = joblib.load('dt.pkl')\n",
        "knn = joblib.load('knn.pkl')\n",
        "lda = joblib.load('lda.pkl')\n",
        "gnb = joblib.load('gnb.pkl')\n",
        "svm = joblib.load('svm.pkl')\n",
        "rf = joblib.load('rf.pkl')\n",
        "ensemble = joblib.load('ensemble.pkl')"
      ],
      "execution_count": 0,
      "outputs": []
    },
    {
      "cell_type": "code",
      "metadata": {
        "id": "GQ5ROadZPCuc",
        "colab_type": "code",
        "colab": {}
      },
      "source": [
        "models = {'Logistic Regression': lr,\n",
        "              'Decision Trees': dt,\n",
        "             # 'K-NN': knn,\n",
        "              'LDA': lda,\n",
        "              'GNB': gnb,\n",
        "              'SVM': svm,\n",
        "              'Random Forest': rf,\n",
        "              'Ensemble': ensemble}"
      ],
      "execution_count": 0,
      "outputs": []
    },
    {
      "cell_type": "code",
      "metadata": {
        "id": "J4rCZLL4PCug",
        "colab_type": "code",
        "colab": {}
      },
      "source": [
        "fpr_l = []\n",
        "tpr_l = []\n",
        "thresholds_l = []\n",
        "roc_auc_l = []\n",
        "acc_l = []\n",
        "pre_l = []\n",
        "rec_l =[]\n",
        "def model_test(key, model):\n",
        "    y_pred = model.predict(X_test)\n",
        "    print (\"********************************\", key,\" Model prediction ***************************\")\n",
        "    print(\"Confusions matrix:\", metrics.confusion_matrix(y_test, y_pred))\n",
        "    print(\"Accuracy:\", metrics.accuracy_score(y_test, y_pred))\n",
        "    print(\"Precision:\", metrics.precision_score(y_test, y_pred))\n",
        "    print(\"Recall:\", metrics.recall_score(y_test, y_pred))\n",
        "    acc_l.append(metrics.accuracy_score(y_test, y_pred))\n",
        "    pre_l.append(metrics.precision_score(y_test, y_pred))\n",
        "    rec_l.append(metrics.recall_score(y_test, y_pred))\n",
        "    y_prob = model.predict_proba(X_test)\n",
        "    #print(y_prob)\n",
        "    y_prob = y_prob[:,1]\n",
        "    print(\"Area under the curve AUC:\", metrics.roc_auc_score(y_test, y_prob))\n",
        "    fpr, tpr, thresholds = metrics.roc_curve(y_test, y_prob)\n",
        "    roc_auc = metrics.auc(fpr, tpr)\n",
        "    print(roc_auc)\n",
        "    fpr_l.append(fpr)\n",
        "    tpr_l.append(tpr)\n",
        "    thresholds_l.append(thresholds)\n",
        "    roc_auc_l.append(roc_auc)\n",
        "#     plt.plot([0,1],[0,1], linestyle='--')\n",
        "#     plt.plot(fpr, tpr, marker='.')\n",
        "#     plt.show()"
      ],
      "execution_count": 0,
      "outputs": []
    },
    {
      "cell_type": "code",
      "metadata": {
        "scrolled": false,
        "id": "VkTegESiPCui",
        "colab_type": "code",
        "colab": {},
        "outputId": "ae683e9a-c7da-47f0-e090-59ee6b76197c"
      },
      "source": [
        "for key, value in models.items():\n",
        "    model_test(key, value)"
      ],
      "execution_count": 0,
      "outputs": [
        {
          "output_type": "stream",
          "text": [
            "******************************** Logistic Regression  Model prediction ***************************\n",
            "Confusions matrix: [[1638   55]\n",
            " [   3  969]]\n",
            "Accuracy: 0.9782363977485928\n",
            "Precision: 0.9462890625\n",
            "Recall: 0.9969135802469136\n",
            "Area under the curve AUC: 0.9919591442857177\n",
            "0.9919591442857177\n",
            "******************************** Decision Trees  Model prediction ***************************\n",
            "Confusions matrix: [[1635   58]\n",
            " [ 152  820]]\n",
            "Accuracy: 0.9212007504690432\n",
            "Precision: 0.9339407744874715\n",
            "Recall: 0.8436213991769548\n",
            "Area under the curve AUC: 0.9046813434160025\n",
            "0.9046813434160025\n",
            "******************************** LDA  Model prediction ***************************\n",
            "Confusions matrix: [[1638   55]\n",
            " [   1  971]]\n",
            "Accuracy: 0.9789868667917448\n",
            "Precision: 0.9463937621832359\n",
            "Recall: 0.9989711934156379\n",
            "Area under the curve AUC: 0.9921900636608256\n",
            "0.9921900636608256\n",
            "******************************** GNB  Model prediction ***************************\n",
            "Confusions matrix: [[1638   55]\n",
            " [   5  967]]\n",
            "Accuracy: 0.9774859287054409\n",
            "Precision: 0.9461839530332681\n",
            "Recall: 0.9948559670781894\n",
            "Area under the curve AUC: 0.9894992452582527\n",
            "0.9894992452582527\n",
            "******************************** SVM  Model prediction ***************************\n",
            "Confusions matrix: [[1458  235]\n",
            " [   4  968]]\n",
            "Accuracy: 0.9103189493433396\n",
            "Precision: 0.8046550290939318\n",
            "Recall: 0.9958847736625515\n",
            "Area under the curve AUC: 0.9793752537074712\n",
            "0.9793752537074712\n",
            "******************************** Random Forest  Model prediction ***************************\n",
            "Confusions matrix: [[1663   30]\n",
            " [ 139  833]]\n",
            "Accuracy: 0.9365853658536586\n",
            "Precision: 0.9652375434530707\n",
            "Recall: 0.8569958847736625\n",
            "Area under the curve AUC: 0.9862314322591936\n",
            "0.9862314322591936\n"
          ],
          "name": "stdout"
        },
        {
          "output_type": "stream",
          "text": [
            "C:\\Users\\Natasha\\Anaconda3\\lib\\site-packages\\sklearn\\preprocessing\\label.py:151: DeprecationWarning: The truth value of an empty array is ambiguous. Returning False, but in future this will result in an error. Use `array.size > 0` to check that an array is not empty.\n",
            "  if diff:\n"
          ],
          "name": "stderr"
        },
        {
          "output_type": "stream",
          "text": [
            "******************************** Ensemble  Model prediction ***************************\n",
            "Confusions matrix: [[1637   56]\n",
            " [   6  966]]\n",
            "Accuracy: 0.9767354596622889\n",
            "Precision: 0.9452054794520548\n",
            "Recall: 0.9938271604938271\n",
            "Area under the curve AUC: 0.9891170129241929\n",
            "0.9891170129241929\n"
          ],
          "name": "stdout"
        }
      ]
    },
    {
      "cell_type": "code",
      "metadata": {
        "id": "ofHky1MTPCum",
        "colab_type": "code",
        "colab": {},
        "outputId": "333b0e51-1f69-46ff-c7f4-c7c8bee465a5"
      },
      "source": [
        "plt.style.use('seaborn-darkgrid')\n",
        "palette = plt.get_cmap('Set1')\n",
        "num=0\n",
        "model_names = ['Logistic Regression','Decision Trees', 'LDA', 'GNB','SVM','RF','Ensemble']\n",
        "plt.plot([0,1],[0,1], linestyle='--')\n",
        "for i in range(7):\n",
        "    num+=1\n",
        "    plt.plot(fpr_l[i], tpr_l[i], marker='.', color=palette(num), linewidth=1, alpha=0.9, label=model_names[i]+', auc:'+str(round(roc_auc_l[i],2)))\n",
        "plt.legend(loc=0, ncol=2)\n",
        "plt.title(\"ROC AUC plot\", loc='left', fontsize=12, fontweight=0, color='orange')\n",
        "plt.xlabel(\"FPR\")\n",
        "plt.ylabel(\"TPR\")\n",
        "plt.show()"
      ],
      "execution_count": 0,
      "outputs": [
        {
          "output_type": "display_data",
          "data": {
            "image/png": "[encoded data removed]",
            "text/plain": [
              "<Figure size 432x288 with 1 Axes>"
            ]
          },
          "metadata": {
            "tags": []
          }
        }
      ]
    },
    {
      "cell_type": "code",
      "metadata": {
        "id": "ubzNr8VQPCuq",
        "colab_type": "code",
        "colab": {},
        "outputId": "23d97d82-f14a-4ca0-f2d0-a26ab902f6f3"
      },
      "source": [
        "plt.figure()\n",
        "plt.xlabel('False Positive Rate')\n",
        "plt.ylabel('True Positive Rate')\n",
        "palette = plt.get_cmap('Set1')\n",
        "num=0\n",
        "plt.plot([0, 1], [0, 1], color='navy', linestyle='--')\n",
        "plt.xlim([0.0, 1.0])\n",
        "plt.ylim([0.0, 1.05])\n",
        "plt.title('All Classifiers ROC AUC plot')\n",
        "for i in range(7):\n",
        "    num+=1\n",
        "    plt.plot(fpr_l[i], tpr_l[i], color=palette(num), lw=2, label=model_names[i]+\", auc=\"+str(round(roc_auc_l[i],2)))\n",
        "plt.legend(loc=\"lower right\")\n",
        "plt.show()"
      ],
      "execution_count": 0,
      "outputs": [
        {
          "output_type": "display_data",
          "data": {
            "image/png": "[encoded data removed]",
            "text/plain": [
              "<Figure size 432x288 with 1 Axes>"
            ]
          },
          "metadata": {
            "tags": []
          }
        }
      ]
    },
    {
      "cell_type": "code",
      "metadata": {
        "id": "TzJyZ12cPCut",
        "colab_type": "code",
        "colab": {}
      },
      "source": [
        "model_stats = pd.DataFrame(index=model_names)"
      ],
      "execution_count": 0,
      "outputs": []
    },
    {
      "cell_type": "code",
      "metadata": {
        "id": "GzYm_oFgPCuw",
        "colab_type": "code",
        "colab": {}
      },
      "source": [
        "model_stats['Accuracy'] = acc_l\n",
        "model_stats['Precision'] = pre_l\n",
        "model_stats['Recall'] = rec_l\n",
        "model_stats['AUC'] = roc_auc_l"
      ],
      "execution_count": 0,
      "outputs": []
    },
    {
      "cell_type": "code",
      "metadata": {
        "id": "04-F9thWPCuy",
        "colab_type": "code",
        "colab": {},
        "outputId": "3b3fdbeb-62e5-47f4-9fc3-4146a99525bb"
      },
      "source": [
        "model_stats"
      ],
      "execution_count": 0,
      "outputs": [
        {
          "output_type": "execute_result",
          "data": {
            "text/html": [
              "<div>\n",
              "<style scoped>\n",
              "    .dataframe tbody tr th:only-of-type {\n",
              "        vertical-align: middle;\n",
              "    }\n",
              "\n",
              "    .dataframe tbody tr th {\n",
              "        vertical-align: top;\n",
              "    }\n",
              "\n",
              "    .dataframe thead th {\n",
              "        text-align: right;\n",
              "    }\n",
              "</style>\n",
              "<table border=\"1\" class=\"dataframe\">\n",
              "  <thead>\n",
              "    <tr style=\"text-align: right;\">\n",
              "      <th></th>\n",
              "      <th>Accuracy</th>\n",
              "      <th>Precision</th>\n",
              "      <th>Recall</th>\n",
              "      <th>AUC</th>\n",
              "    </tr>\n",
              "  </thead>\n",
              "  <tbody>\n",
              "    <tr>\n",
              "      <th>Logistic Regression</th>\n",
              "      <td>0.978236</td>\n",
              "      <td>0.946289</td>\n",
              "      <td>0.996914</td>\n",
              "      <td>0.991959</td>\n",
              "    </tr>\n",
              "    <tr>\n",
              "      <th>Decision Trees</th>\n",
              "      <td>0.921201</td>\n",
              "      <td>0.933941</td>\n",
              "      <td>0.843621</td>\n",
              "      <td>0.904681</td>\n",
              "    </tr>\n",
              "    <tr>\n",
              "      <th>LDA</th>\n",
              "      <td>0.978987</td>\n",
              "      <td>0.946394</td>\n",
              "      <td>0.998971</td>\n",
              "      <td>0.992190</td>\n",
              "    </tr>\n",
              "    <tr>\n",
              "      <th>GNB</th>\n",
              "      <td>0.977486</td>\n",
              "      <td>0.946184</td>\n",
              "      <td>0.994856</td>\n",
              "      <td>0.989499</td>\n",
              "    </tr>\n",
              "    <tr>\n",
              "      <th>SVM</th>\n",
              "      <td>0.910319</td>\n",
              "      <td>0.804655</td>\n",
              "      <td>0.995885</td>\n",
              "      <td>0.979375</td>\n",
              "    </tr>\n",
              "    <tr>\n",
              "      <th>RF</th>\n",
              "      <td>0.936585</td>\n",
              "      <td>0.965238</td>\n",
              "      <td>0.856996</td>\n",
              "      <td>0.986231</td>\n",
              "    </tr>\n",
              "    <tr>\n",
              "      <th>Ensemble</th>\n",
              "      <td>0.976735</td>\n",
              "      <td>0.945205</td>\n",
              "      <td>0.993827</td>\n",
              "      <td>0.989117</td>\n",
              "    </tr>\n",
              "  </tbody>\n",
              "</table>\n",
              "</div>"
            ],
            "text/plain": [
              "                     Accuracy  Precision    Recall       AUC\n",
              "Logistic Regression  0.978236   0.946289  0.996914  0.991959\n",
              "Decision Trees       0.921201   0.933941  0.843621  0.904681\n",
              "LDA                  0.978987   0.946394  0.998971  0.992190\n",
              "GNB                  0.977486   0.946184  0.994856  0.989499\n",
              "SVM                  0.910319   0.804655  0.995885  0.979375\n",
              "RF                   0.936585   0.965238  0.856996  0.986231\n",
              "Ensemble             0.976735   0.945205  0.993827  0.989117"
            ]
          },
          "metadata": {
            "tags": []
          },
          "execution_count": 81
        }
      ]
    }
  ]
}